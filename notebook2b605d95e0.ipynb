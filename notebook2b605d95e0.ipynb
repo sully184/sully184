{
 "cells": [
  {
   "cell_type": "code",
   "execution_count": 1,
   "id": "404d5506",
   "metadata": {
    "_cell_guid": "b1076dfc-b9ad-4769-8c92-a6c4dae69d19",
    "_uuid": "8f2839f25d086af736a60e9eeb907d3b93b6e0e5",
    "execution": {
     "iopub.execute_input": "2024-01-07T00:21:34.880620Z",
     "iopub.status.busy": "2024-01-07T00:21:34.879812Z",
     "iopub.status.idle": "2024-01-07T00:21:35.264014Z",
     "shell.execute_reply": "2024-01-07T00:21:35.262896Z"
    },
    "papermill": {
     "duration": 0.392366,
     "end_time": "2024-01-07T00:21:35.266307",
     "exception": false,
     "start_time": "2024-01-07T00:21:34.873941",
     "status": "completed"
    },
    "tags": []
   },
   "outputs": [
    {
     "name": "stdout",
     "output_type": "stream",
     "text": [
      "/kaggle/input/house-prices-advanced-regression-techniques/sample_submission.csv\n",
      "/kaggle/input/house-prices-advanced-regression-techniques/data_description.txt\n",
      "/kaggle/input/house-prices-advanced-regression-techniques/train.csv\n",
      "/kaggle/input/house-prices-advanced-regression-techniques/test.csv\n"
     ]
    }
   ],
   "source": [
    "# This Python 3 environment comes with many helpful analytics libraries installed\n",
    "# It is defined by the kaggle/python Docker image: https://github.com/kaggle/docker-python\n",
    "# For example, here's several helpful packages to load\n",
    "\n",
    "import numpy as np # linear algebra\n",
    "import pandas as pd # data processing, CSV file I/O (e.g. pd.read_csv)\n",
    "\n",
    "# Input data files are available in the read-only \"../input/\" directory\n",
    "# For example, running this (by clicking run or pressing Shift+Enter) will list all files under the input directory\n",
    "\n",
    "import os\n",
    "for dirname, _, filenames in os.walk('/kaggle/input'):\n",
    "    for filename in filenames:\n",
    "        print(os.path.join(dirname, filename))\n",
    "\n",
    "# You can write up to 20GB to the current directory (/kaggle/working/) that gets preserved as output when you create a version using \"Save & Run All\" \n",
    "# You can also write temporary files to /kaggle/temp/, but they won't be saved outside of the current session"
   ]
  },
  {
   "cell_type": "code",
   "execution_count": 2,
   "id": "a59b3ec4",
   "metadata": {
    "execution": {
     "iopub.execute_input": "2024-01-07T00:21:35.275441Z",
     "iopub.status.busy": "2024-01-07T00:21:35.274643Z",
     "iopub.status.idle": "2024-01-07T00:21:35.368351Z",
     "shell.execute_reply": "2024-01-07T00:21:35.367324Z"
    },
    "papermill": {
     "duration": 0.10077,
     "end_time": "2024-01-07T00:21:35.370728",
     "exception": false,
     "start_time": "2024-01-07T00:21:35.269958",
     "status": "completed"
    },
    "tags": []
   },
   "outputs": [
    {
     "name": "stdout",
     "output_type": "stream",
     "text": [
      "   Id  MSSubClass MSZoning  LotFrontage  LotArea Street Alley LotShape  \\\n",
      "0   1          60       RL         65.0     8450   Pave   NaN      Reg   \n",
      "1   2          20       RL         80.0     9600   Pave   NaN      Reg   \n",
      "2   3          60       RL         68.0    11250   Pave   NaN      IR1   \n",
      "3   4          70       RL         60.0     9550   Pave   NaN      IR1   \n",
      "4   5          60       RL         84.0    14260   Pave   NaN      IR1   \n",
      "\n",
      "  LandContour Utilities  ... PoolArea PoolQC Fence MiscFeature MiscVal MoSold  \\\n",
      "0         Lvl    AllPub  ...        0    NaN   NaN         NaN       0      2   \n",
      "1         Lvl    AllPub  ...        0    NaN   NaN         NaN       0      5   \n",
      "2         Lvl    AllPub  ...        0    NaN   NaN         NaN       0      9   \n",
      "3         Lvl    AllPub  ...        0    NaN   NaN         NaN       0      2   \n",
      "4         Lvl    AllPub  ...        0    NaN   NaN         NaN       0     12   \n",
      "\n",
      "  YrSold  SaleType  SaleCondition  SalePrice  \n",
      "0   2008        WD         Normal     208500  \n",
      "1   2007        WD         Normal     181500  \n",
      "2   2008        WD         Normal     223500  \n",
      "3   2006        WD        Abnorml     140000  \n",
      "4   2008        WD         Normal     250000  \n",
      "\n",
      "[5 rows x 81 columns]\n"
     ]
    }
   ],
   "source": [
    "#importing data from csv file to dataframe\n",
    "train_data = pd.read_csv(\"/kaggle/input/house-prices-advanced-regression-techniques/train.csv\")\n",
    "test_data = pd.read_csv(\"/kaggle/input/house-prices-advanced-regression-techniques/test.csv\")\n",
    "\n",
    "print(train_data.head())"
   ]
  },
  {
   "cell_type": "code",
   "execution_count": 3,
   "id": "4d4c788b",
   "metadata": {
    "execution": {
     "iopub.execute_input": "2024-01-07T00:21:35.379377Z",
     "iopub.status.busy": "2024-01-07T00:21:35.378973Z",
     "iopub.status.idle": "2024-01-07T00:21:35.407820Z",
     "shell.execute_reply": "2024-01-07T00:21:35.406503Z"
    },
    "papermill": {
     "duration": 0.035995,
     "end_time": "2024-01-07T00:21:35.410227",
     "exception": false,
     "start_time": "2024-01-07T00:21:35.374232",
     "status": "completed"
    },
    "tags": []
   },
   "outputs": [
    {
     "name": "stdout",
     "output_type": "stream",
     "text": [
      "{'LotFrontage': 259, 'Alley': 1369, 'MasVnrType': 872, 'MasVnrArea': 8, 'BsmtQual': 37, 'BsmtCond': 37, 'BsmtExposure': 38, 'BsmtFinType1': 37, 'BsmtFinType2': 38, 'Electrical': 1, 'FireplaceQu': 690, 'GarageType': 81, 'GarageYrBlt': 81, 'GarageFinish': 81, 'GarageQual': 81, 'GarageCond': 81, 'PoolQC': 1453, 'Fence': 1179, 'MiscFeature': 1406}\n"
     ]
    }
   ],
   "source": [
    "#checking for missing data\n",
    "missing_dict = {}\n",
    "for column in train_data.columns:\n",
    "    if train_data[column].isnull().sum() != 0:\n",
    "        missing_dict[column] = train_data[column].isnull().sum()\n",
    "print(missing_dict)  "
   ]
  },
  {
   "cell_type": "code",
   "execution_count": 4,
   "id": "74117a7d",
   "metadata": {
    "execution": {
     "iopub.execute_input": "2024-01-07T00:21:35.418805Z",
     "iopub.status.busy": "2024-01-07T00:21:35.418466Z",
     "iopub.status.idle": "2024-01-07T00:21:35.449805Z",
     "shell.execute_reply": "2024-01-07T00:21:35.448793Z"
    },
    "papermill": {
     "duration": 0.038436,
     "end_time": "2024-01-07T00:21:35.452175",
     "exception": false,
     "start_time": "2024-01-07T00:21:35.413739",
     "status": "completed"
    },
    "tags": []
   },
   "outputs": [
    {
     "name": "stdout",
     "output_type": "stream",
     "text": [
      "{'MSZoning': 4, 'LotFrontage': 227, 'Alley': 1352, 'Utilities': 2, 'Exterior1st': 1, 'Exterior2nd': 1, 'MasVnrType': 894, 'MasVnrArea': 15, 'BsmtQual': 44, 'BsmtCond': 45, 'BsmtExposure': 44, 'BsmtFinType1': 42, 'BsmtFinSF1': 1, 'BsmtFinType2': 42, 'BsmtFinSF2': 1, 'BsmtUnfSF': 1, 'TotalBsmtSF': 1, 'BsmtFullBath': 2, 'BsmtHalfBath': 2, 'KitchenQual': 1, 'Functional': 2, 'FireplaceQu': 730, 'GarageType': 76, 'GarageYrBlt': 78, 'GarageFinish': 78, 'GarageCars': 1, 'GarageArea': 1, 'GarageQual': 78, 'GarageCond': 78, 'PoolQC': 1456, 'Fence': 1169, 'MiscFeature': 1408, 'SaleType': 1}\n"
     ]
    }
   ],
   "source": [
    "#checking for missing data\n",
    "missing_dict = {}\n",
    "for column in test_data.columns:\n",
    "    if test_data[column].isnull().sum() != 0:\n",
    "        missing_dict[column] = test_data[column].isnull().sum()\n",
    "print(missing_dict)  "
   ]
  },
  {
   "cell_type": "code",
   "execution_count": 5,
   "id": "1ef2874a",
   "metadata": {
    "execution": {
     "iopub.execute_input": "2024-01-07T00:21:35.461031Z",
     "iopub.status.busy": "2024-01-07T00:21:35.460688Z",
     "iopub.status.idle": "2024-01-07T00:21:35.494598Z",
     "shell.execute_reply": "2024-01-07T00:21:35.493436Z"
    },
    "papermill": {
     "duration": 0.041021,
     "end_time": "2024-01-07T00:21:35.496909",
     "exception": false,
     "start_time": "2024-01-07T00:21:35.455888",
     "status": "completed"
    },
    "tags": []
   },
   "outputs": [],
   "source": [
    "#handling missing data\n",
    "\n",
    "#dropping columns with too much missing data\n",
    "train_data.drop(columns=['Alley', 'PoolQC', 'Fence', 'MiscFeature', 'FireplaceQu'], inplace=True)\n",
    "\n",
    "#dropping missing values\n",
    "drop_list = ['Electrical', 'BsmtQual', 'BsmtCond', 'BsmtExposure', 'BsmtFinType1', 'BsmtFinType2']\n",
    "for i in drop_list:\n",
    "    train_data.dropna(subset=[i], inplace=True)\n",
    "\n",
    "#filling in missing data \n",
    "fill_list = ['GarageType', 'GarageYrBlt', 'GarageFinish', 'GarageQual', 'GarageCond']\n",
    "\n",
    "for i in fill_list:\n",
    "    train_data[i].fillna(train_data[i].mode().iloc[0], inplace=True)\n",
    "    \n",
    "train_data['LotFrontage'].fillna(train_data['LotFrontage'].mean(), inplace=True)\n",
    "train_data['MasVnrArea'].fillna(train_data['MasVnrArea'].mean(), inplace=True)\n",
    "\n",
    "train_data['MasVnrType'].fillna('None', inplace=True)"
   ]
  },
  {
   "cell_type": "code",
   "execution_count": 6,
   "id": "4886ad2c",
   "metadata": {
    "execution": {
     "iopub.execute_input": "2024-01-07T00:21:35.505739Z",
     "iopub.status.busy": "2024-01-07T00:21:35.505337Z",
     "iopub.status.idle": "2024-01-07T00:21:35.533009Z",
     "shell.execute_reply": "2024-01-07T00:21:35.532052Z"
    },
    "papermill": {
     "duration": 0.034964,
     "end_time": "2024-01-07T00:21:35.535558",
     "exception": false,
     "start_time": "2024-01-07T00:21:35.500594",
     "status": "completed"
    },
    "tags": []
   },
   "outputs": [],
   "source": [
    "#handling missing data\n",
    "\n",
    "#dropping columns with too much missing data\n",
    "test_data.drop(columns=['Alley', 'PoolQC', 'Fence', 'MiscFeature', 'FireplaceQu'], inplace=True)\n",
    "\n",
    "#dropping missing values\n",
    "drop_list = ['Electrical', 'BsmtQual', 'BsmtCond', 'BsmtExposure', 'BsmtFinType1', 'BsmtFinType2']\n",
    "for i in drop_list:\n",
    "    test_data.dropna(subset=[i], inplace=True)\n",
    "\n",
    "#filling in missing data \n",
    "fill_list = ['GarageType', 'GarageYrBlt', 'GarageFinish', 'GarageQual', 'GarageCond']\n",
    "\n",
    "for i in fill_list:\n",
    "    test_data[i].fillna(test_data[i].mode().iloc[0], inplace=True)\n",
    "    \n",
    "test_data['LotFrontage'].fillna(test_data['LotFrontage'].mean(), inplace=True)\n",
    "test_data['MasVnrArea'].fillna(test_data['MasVnrArea'].mean(), inplace=True)\n",
    "\n",
    "test_data['MasVnrType'].fillna('None', inplace=True)"
   ]
  },
  {
   "cell_type": "code",
   "execution_count": 7,
   "id": "44c5475f",
   "metadata": {
    "execution": {
     "iopub.execute_input": "2024-01-07T00:21:35.544911Z",
     "iopub.status.busy": "2024-01-07T00:21:35.544175Z",
     "iopub.status.idle": "2024-01-07T00:21:35.593330Z",
     "shell.execute_reply": "2024-01-07T00:21:35.592253Z"
    },
    "papermill": {
     "duration": 0.05661,
     "end_time": "2024-01-07T00:21:35.595951",
     "exception": false,
     "start_time": "2024-01-07T00:21:35.539341",
     "status": "completed"
    },
    "tags": []
   },
   "outputs": [],
   "source": [
    "#print(train_data.head(10))\n",
    "for column in test_data.columns:\n",
    "    if test_data[column].isnull().sum() != 0:\n",
    "        if test_data[column].dtype == 'object':\n",
    "            test_data[column].fillna('None', inplace=True)\n",
    "        else:\n",
    "            test_data[column].fillna(test_data[column].mean(), inplace=True)\n",
    "\n",
    "for column in test_data.columns:\n",
    "    if test_data[column].isnull().sum() != 0:\n",
    "        print(column)"
   ]
  },
  {
   "cell_type": "code",
   "execution_count": 8,
   "id": "be351ce0",
   "metadata": {
    "execution": {
     "iopub.execute_input": "2024-01-07T00:21:35.604978Z",
     "iopub.status.busy": "2024-01-07T00:21:35.604604Z",
     "iopub.status.idle": "2024-01-07T00:21:36.757706Z",
     "shell.execute_reply": "2024-01-07T00:21:36.756748Z"
    },
    "papermill": {
     "duration": 1.16046,
     "end_time": "2024-01-07T00:21:36.760248",
     "exception": false,
     "start_time": "2024-01-07T00:21:35.599788",
     "status": "completed"
    },
    "tags": []
   },
   "outputs": [],
   "source": [
    "#determining non-numerical columns\n",
    "object_cols = train_data.select_dtypes(exclude='number').columns.tolist()\n",
    "object_cols2 = test_data.select_dtypes(exclude='number').columns.tolist()\n",
    "\n",
    "#for i in object_cols:\n",
    "    #print(i)\n",
    "\n",
    "#performing ordinal encoding \n",
    "from sklearn.preprocessing import OrdinalEncoder\n",
    "ord_encoder = OrdinalEncoder(handle_unknown='use_encoded_value', unknown_value=-1)\n",
    "train_data[object_cols] = ord_encoder.fit_transform(train_data[object_cols])\n",
    "test_data[object_cols2] = ord_encoder.transform(test_data[object_cols2])\n",
    "\n",
    "#for column in train_data.columns:\n",
    "    #print(train_data[column].dtypes)"
   ]
  },
  {
   "cell_type": "code",
   "execution_count": 9,
   "id": "8a2a8386",
   "metadata": {
    "execution": {
     "iopub.execute_input": "2024-01-07T00:21:36.769569Z",
     "iopub.status.busy": "2024-01-07T00:21:36.768909Z",
     "iopub.status.idle": "2024-01-07T00:21:36.955055Z",
     "shell.execute_reply": "2024-01-07T00:21:36.954065Z"
    },
    "papermill": {
     "duration": 0.193599,
     "end_time": "2024-01-07T00:21:36.957715",
     "exception": false,
     "start_time": "2024-01-07T00:21:36.764116",
     "status": "completed"
    },
    "tags": []
   },
   "outputs": [],
   "source": [
    "train_features = train_data.drop(columns=['SalePrice'])\n",
    "train_target = train_data['SalePrice']\n",
    "\n",
    "#test_features = test_data.drop(columns=['SalePrice'])\n",
    "#test_target = test_data['SalePrice']\n",
    "\n",
    "from sklearn.model_selection import train_test_split\n",
    "X_train, X_test, y_train, y_test = train_test_split(train_features, train_target, test_size=0.3, random_state=42)"
   ]
  },
  {
   "cell_type": "code",
   "execution_count": 10,
   "id": "7bd2e12b",
   "metadata": {
    "execution": {
     "iopub.execute_input": "2024-01-07T00:21:36.966609Z",
     "iopub.status.busy": "2024-01-07T00:21:36.966095Z",
     "iopub.status.idle": "2024-01-07T00:21:37.703743Z",
     "shell.execute_reply": "2024-01-07T00:21:37.702619Z"
    },
    "papermill": {
     "duration": 0.744692,
     "end_time": "2024-01-07T00:21:37.706094",
     "exception": false,
     "start_time": "2024-01-07T00:21:36.961402",
     "status": "completed"
    },
    "tags": []
   },
   "outputs": [
    {
     "name": "stdout",
     "output_type": "stream",
     "text": [
      "Root Mean Squared Error:  37606.43906334442\n"
     ]
    }
   ],
   "source": [
    "from sklearn.ensemble import RandomForestRegressor\n",
    "from sklearn.metrics import mean_squared_error\n",
    "\n",
    "rf_model = RandomForestRegressor(n_estimators=100, min_samples_leaf=2, max_depth=3, random_state=42)\n",
    "\n",
    "#model fitting and predicting\n",
    "rf_model.fit(X_train, y_train)\n",
    "predictions = rf_model.predict(X_test)\n",
    "\n",
    "#calculating accuracy using rmse\n",
    "rmse = np.sqrt(mean_squared_error(y_test, predictions))\n",
    "print(\"Root Mean Squared Error: \", rmse)"
   ]
  }
 ],
 "metadata": {
  "kaggle": {
   "accelerator": "none",
   "dataSources": [
    {
     "databundleVersionId": 868283,
     "sourceId": 5407,
     "sourceType": "competition"
    }
   ],
   "dockerImageVersionId": 30626,
   "isGpuEnabled": false,
   "isInternetEnabled": true,
   "language": "python",
   "sourceType": "notebook"
  },
  "kernelspec": {
   "display_name": "Python 3",
   "language": "python",
   "name": "python3"
  },
  "language_info": {
   "codemirror_mode": {
    "name": "ipython",
    "version": 3
   },
   "file_extension": ".py",
   "mimetype": "text/x-python",
   "name": "python",
   "nbconvert_exporter": "python",
   "pygments_lexer": "ipython3",
   "version": "3.10.12"
  },
  "papermill": {
   "default_parameters": {},
   "duration": 6.414974,
   "end_time": "2024-01-07T00:21:38.229049",
   "environment_variables": {},
   "exception": null,
   "input_path": "__notebook__.ipynb",
   "output_path": "__notebook__.ipynb",
   "parameters": {},
   "start_time": "2024-01-07T00:21:31.814075",
   "version": "2.4.0"
  }
 },
 "nbformat": 4,
 "nbformat_minor": 5
}
