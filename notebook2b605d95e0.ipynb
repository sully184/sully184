{
 "cells": [
  {
   "cell_type": "code",
   "execution_count": 1,
   "id": "11eacca1",
   "metadata": {
    "_cell_guid": "b1076dfc-b9ad-4769-8c92-a6c4dae69d19",
    "_uuid": "8f2839f25d086af736a60e9eeb907d3b93b6e0e5",
    "execution": {
     "iopub.execute_input": "2024-01-08T00:11:40.053349Z",
     "iopub.status.busy": "2024-01-08T00:11:40.052904Z",
     "iopub.status.idle": "2024-01-08T00:11:40.459301Z",
     "shell.execute_reply": "2024-01-08T00:11:40.457971Z"
    },
    "papermill": {
     "duration": 0.417796,
     "end_time": "2024-01-08T00:11:40.463522",
     "exception": false,
     "start_time": "2024-01-08T00:11:40.045726",
     "status": "completed"
    },
    "tags": []
   },
   "outputs": [
    {
     "name": "stdout",
     "output_type": "stream",
     "text": [
      "/kaggle/input/house-prices-advanced-regression-techniques/sample_submission.csv\n",
      "/kaggle/input/house-prices-advanced-regression-techniques/data_description.txt\n",
      "/kaggle/input/house-prices-advanced-regression-techniques/train.csv\n",
      "/kaggle/input/house-prices-advanced-regression-techniques/test.csv\n"
     ]
    }
   ],
   "source": [
    "# This Python 3 environment comes with many helpful analytics libraries installed\n",
    "# It is defined by the kaggle/python Docker image: https://github.com/kaggle/docker-python\n",
    "# For example, here's several helpful packages to load\n",
    "\n",
    "import numpy as np # linear algebra\n",
    "import pandas as pd # data processing, CSV file I/O (e.g. pd.read_csv)\n",
    "\n",
    "# Input data files are available in the read-only \"../input/\" directory\n",
    "# For example, running this (by clicking run or pressing Shift+Enter) will list all files under the input directory\n",
    "\n",
    "import os\n",
    "for dirname, _, filenames in os.walk('/kaggle/input'):\n",
    "    for filename in filenames:\n",
    "        print(os.path.join(dirname, filename))\n",
    "\n",
    "# You can write up to 20GB to the current directory (/kaggle/working/) that gets preserved as output when you create a version using \"Save & Run All\" \n",
    "# You can also write temporary files to /kaggle/temp/, but they won't be saved outside of the current session"
   ]
  },
  {
   "cell_type": "code",
   "execution_count": 2,
   "id": "129de5e0",
   "metadata": {
    "execution": {
     "iopub.execute_input": "2024-01-08T00:11:40.475079Z",
     "iopub.status.busy": "2024-01-08T00:11:40.474569Z",
     "iopub.status.idle": "2024-01-08T00:11:40.574308Z",
     "shell.execute_reply": "2024-01-08T00:11:40.573197Z"
    },
    "papermill": {
     "duration": 0.108277,
     "end_time": "2024-01-08T00:11:40.576824",
     "exception": false,
     "start_time": "2024-01-08T00:11:40.468547",
     "status": "completed"
    },
    "tags": []
   },
   "outputs": [
    {
     "name": "stdout",
     "output_type": "stream",
     "text": [
      "   Id  MSSubClass MSZoning  LotFrontage  LotArea Street Alley LotShape  \\\n",
      "0   1          60       RL         65.0     8450   Pave   NaN      Reg   \n",
      "1   2          20       RL         80.0     9600   Pave   NaN      Reg   \n",
      "2   3          60       RL         68.0    11250   Pave   NaN      IR1   \n",
      "3   4          70       RL         60.0     9550   Pave   NaN      IR1   \n",
      "4   5          60       RL         84.0    14260   Pave   NaN      IR1   \n",
      "\n",
      "  LandContour Utilities  ... PoolArea PoolQC Fence MiscFeature MiscVal MoSold  \\\n",
      "0         Lvl    AllPub  ...        0    NaN   NaN         NaN       0      2   \n",
      "1         Lvl    AllPub  ...        0    NaN   NaN         NaN       0      5   \n",
      "2         Lvl    AllPub  ...        0    NaN   NaN         NaN       0      9   \n",
      "3         Lvl    AllPub  ...        0    NaN   NaN         NaN       0      2   \n",
      "4         Lvl    AllPub  ...        0    NaN   NaN         NaN       0     12   \n",
      "\n",
      "  YrSold  SaleType  SaleCondition  SalePrice  \n",
      "0   2008        WD         Normal     208500  \n",
      "1   2007        WD         Normal     181500  \n",
      "2   2008        WD         Normal     223500  \n",
      "3   2006        WD        Abnorml     140000  \n",
      "4   2008        WD         Normal     250000  \n",
      "\n",
      "[5 rows x 81 columns]\n"
     ]
    }
   ],
   "source": [
    "#importing data from csv file to dataframe\n",
    "train_data = pd.read_csv(\"/kaggle/input/house-prices-advanced-regression-techniques/train.csv\")\n",
    "test_data = pd.read_csv(\"/kaggle/input/house-prices-advanced-regression-techniques/test.csv\")\n",
    "\n",
    "print(train_data.head())"
   ]
  },
  {
   "cell_type": "code",
   "execution_count": 3,
   "id": "475ccb8c",
   "metadata": {
    "execution": {
     "iopub.execute_input": "2024-01-08T00:11:40.587688Z",
     "iopub.status.busy": "2024-01-08T00:11:40.586876Z",
     "iopub.status.idle": "2024-01-08T00:11:40.619168Z",
     "shell.execute_reply": "2024-01-08T00:11:40.618232Z"
    },
    "papermill": {
     "duration": 0.04004,
     "end_time": "2024-01-08T00:11:40.621337",
     "exception": false,
     "start_time": "2024-01-08T00:11:40.581297",
     "status": "completed"
    },
    "tags": []
   },
   "outputs": [
    {
     "name": "stdout",
     "output_type": "stream",
     "text": [
      "{'LotFrontage': 259, 'Alley': 1369, 'MasVnrType': 872, 'MasVnrArea': 8, 'BsmtQual': 37, 'BsmtCond': 37, 'BsmtExposure': 38, 'BsmtFinType1': 37, 'BsmtFinType2': 38, 'Electrical': 1, 'FireplaceQu': 690, 'GarageType': 81, 'GarageYrBlt': 81, 'GarageFinish': 81, 'GarageQual': 81, 'GarageCond': 81, 'PoolQC': 1453, 'Fence': 1179, 'MiscFeature': 1406}\n"
     ]
    }
   ],
   "source": [
    "#checking for missing data\n",
    "missing_dict = {}\n",
    "for column in train_data.columns:\n",
    "    if train_data[column].isnull().sum() != 0:\n",
    "        missing_dict[column] = train_data[column].isnull().sum()\n",
    "print(missing_dict)  "
   ]
  },
  {
   "cell_type": "code",
   "execution_count": 4,
   "id": "c17beab0",
   "metadata": {
    "execution": {
     "iopub.execute_input": "2024-01-08T00:11:40.631969Z",
     "iopub.status.busy": "2024-01-08T00:11:40.631558Z",
     "iopub.status.idle": "2024-01-08T00:11:40.671734Z",
     "shell.execute_reply": "2024-01-08T00:11:40.670061Z"
    },
    "papermill": {
     "duration": 0.048151,
     "end_time": "2024-01-08T00:11:40.673975",
     "exception": false,
     "start_time": "2024-01-08T00:11:40.625824",
     "status": "completed"
    },
    "tags": []
   },
   "outputs": [
    {
     "name": "stdout",
     "output_type": "stream",
     "text": [
      "{'MSZoning': 4, 'LotFrontage': 227, 'Alley': 1352, 'Utilities': 2, 'Exterior1st': 1, 'Exterior2nd': 1, 'MasVnrType': 894, 'MasVnrArea': 15, 'BsmtQual': 44, 'BsmtCond': 45, 'BsmtExposure': 44, 'BsmtFinType1': 42, 'BsmtFinSF1': 1, 'BsmtFinType2': 42, 'BsmtFinSF2': 1, 'BsmtUnfSF': 1, 'TotalBsmtSF': 1, 'BsmtFullBath': 2, 'BsmtHalfBath': 2, 'KitchenQual': 1, 'Functional': 2, 'FireplaceQu': 730, 'GarageType': 76, 'GarageYrBlt': 78, 'GarageFinish': 78, 'GarageCars': 1, 'GarageArea': 1, 'GarageQual': 78, 'GarageCond': 78, 'PoolQC': 1456, 'Fence': 1169, 'MiscFeature': 1408, 'SaleType': 1}\n"
     ]
    }
   ],
   "source": [
    "#checking for missing data\n",
    "missing_dict = {}\n",
    "for column in test_data.columns:\n",
    "    if test_data[column].isnull().sum() != 0:\n",
    "        missing_dict[column] = test_data[column].isnull().sum()\n",
    "print(missing_dict)  "
   ]
  },
  {
   "cell_type": "code",
   "execution_count": 5,
   "id": "09a9151a",
   "metadata": {
    "execution": {
     "iopub.execute_input": "2024-01-08T00:11:40.684666Z",
     "iopub.status.busy": "2024-01-08T00:11:40.684232Z",
     "iopub.status.idle": "2024-01-08T00:11:40.717551Z",
     "shell.execute_reply": "2024-01-08T00:11:40.716396Z"
    },
    "papermill": {
     "duration": 0.041987,
     "end_time": "2024-01-08T00:11:40.720456",
     "exception": false,
     "start_time": "2024-01-08T00:11:40.678469",
     "status": "completed"
    },
    "tags": []
   },
   "outputs": [],
   "source": [
    "#handling missing data\n",
    "\n",
    "#dropping columns with too much missing data\n",
    "train_data.drop(columns=['Alley', 'PoolQC', 'Fence', 'MiscFeature', 'FireplaceQu', \n",
    "                         'RoofMatl',  'BsmtUnfSF', 'BsmtHalfBath', 'GarageYrBlt',\n",
    "                         '3SsnPorch', 'ScreenPorch', 'MiscVal'], inplace=True)\n",
    "train_data.drop(columns=['MSSubClass', 'Street', 'Utilities', 'Condition2', \n",
    "                         'BsmtFinSF2', 'LowQualFinSF', 'KitchenAbvGr', \n",
    "                          'PoolArea', 'GarageFinish'], inplace=True)\n",
    "\n",
    "#dropping missing values\n",
    "drop_list = ['Electrical', 'BsmtQual', 'BsmtCond', 'BsmtExposure','BsmtFinType2']\n",
    "for i in drop_list:\n",
    "    train_data.dropna(subset=[i], inplace=True)\n",
    "\n",
    "#filling in missing data \n",
    "fill_list = ['GarageType', 'GarageQual', 'GarageCond']\n",
    "\n",
    "for i in fill_list:\n",
    "    train_data[i].fillna(train_data[i].mode().iloc[0], inplace=True)\n",
    "    \n",
    "train_data['LotFrontage'].fillna(train_data['LotFrontage'].mean(), inplace=True)\n",
    "train_data['MasVnrArea'].fillna(train_data['MasVnrArea'].mean(), inplace=True)\n",
    "\n",
    "train_data['MasVnrType'].fillna('None', inplace=True)"
   ]
  },
  {
   "cell_type": "code",
   "execution_count": 6,
   "id": "2da034aa",
   "metadata": {
    "execution": {
     "iopub.execute_input": "2024-01-08T00:11:40.731808Z",
     "iopub.status.busy": "2024-01-08T00:11:40.730975Z",
     "iopub.status.idle": "2024-01-08T00:11:40.735880Z",
     "shell.execute_reply": "2024-01-08T00:11:40.734790Z"
    },
    "papermill": {
     "duration": 0.012948,
     "end_time": "2024-01-08T00:11:40.738040",
     "exception": false,
     "start_time": "2024-01-08T00:11:40.725092",
     "status": "completed"
    },
    "tags": []
   },
   "outputs": [],
   "source": [
    "#train_data.drop(columns=['MSSubClass', 'Street', 'Alley', 'Utilities', 'Condition2', \n",
    " #                        'BsmtFinSF2', 'LowQualFinSF', 'BsmtHalfBath', 'KitchenAbvGr', \n",
    "  #                       '3SsnPorch', 'ScreenPorch', 'PoolArea'], inplace=True)\n",
    "#test_data.drop(columns=['Alley', 'PoolQC', 'Fence', 'MiscFeature', 'FireplaceQu', \n",
    " #                        'LandSlope', 'RoofMatl', \n",
    "  #                        'BsmtUnfSF', 'BsmtFullBath', \n",
    "   #                      'BsmtHalfBath', 'FullBath', 'HalfBath', 'GarageYrBlt', \n",
    "    #                     'GarageFinish', 'WoodDeckSF', 'OpenPorchSF','EnclosedPorch', \n",
    "     #                    '3SsnPorch', 'ScreenPorch',  'MiscVal'], inplace=True)"
   ]
  },
  {
   "cell_type": "code",
   "execution_count": 7,
   "id": "cfdfab4c",
   "metadata": {
    "execution": {
     "iopub.execute_input": "2024-01-08T00:11:40.748616Z",
     "iopub.status.busy": "2024-01-08T00:11:40.748201Z",
     "iopub.status.idle": "2024-01-08T00:11:40.773508Z",
     "shell.execute_reply": "2024-01-08T00:11:40.772652Z"
    },
    "papermill": {
     "duration": 0.033298,
     "end_time": "2024-01-08T00:11:40.775859",
     "exception": false,
     "start_time": "2024-01-08T00:11:40.742561",
     "status": "completed"
    },
    "tags": []
   },
   "outputs": [],
   "source": [
    "#handling missing data\n",
    "\n",
    "#dropping columns\n",
    "test_data.drop(columns=['Alley', 'PoolQC', 'Fence', 'MiscFeature', 'FireplaceQu', \n",
    "                        'RoofMatl', 'BsmtUnfSF', 'BsmtHalfBath', 'GarageYrBlt',\n",
    "                         '3SsnPorch', 'ScreenPorch', 'MiscVal'], inplace=True)\n",
    "test_data.drop(columns=['MSSubClass', 'Street', 'Utilities', 'Condition2', \n",
    "                         'BsmtFinSF2', 'LowQualFinSF', 'KitchenAbvGr', \n",
    "                        'PoolArea', 'GarageFinish'], inplace=True)\n",
    "\n",
    "#dropping missing values\n",
    "drop_list = ['Electrical', 'BsmtQual', 'BsmtCond', 'BsmtExposure']\n",
    "for i in drop_list:\n",
    "    test_data.dropna(subset=[i], inplace=True)\n",
    "\n",
    "#filling in missing data \n",
    "fill_list = ['GarageType', 'GarageQual', 'GarageCond']\n",
    "\n",
    "for i in fill_list:\n",
    "    test_data[i].fillna(test_data[i].mode().iloc[0], inplace=True)\n",
    "    \n",
    "test_data['LotFrontage'].fillna(test_data['LotFrontage'].mean(), inplace=True)\n",
    "test_data['MasVnrArea'].fillna(test_data['MasVnrArea'].mean(), inplace=True)\n",
    "\n",
    "test_data['MasVnrType'].fillna('None', inplace=True)"
   ]
  },
  {
   "cell_type": "code",
   "execution_count": 8,
   "id": "9026646e",
   "metadata": {
    "execution": {
     "iopub.execute_input": "2024-01-08T00:11:40.787250Z",
     "iopub.status.busy": "2024-01-08T00:11:40.786550Z",
     "iopub.status.idle": "2024-01-08T00:11:40.806373Z",
     "shell.execute_reply": "2024-01-08T00:11:40.804886Z"
    },
    "papermill": {
     "duration": 0.028293,
     "end_time": "2024-01-08T00:11:40.808646",
     "exception": false,
     "start_time": "2024-01-08T00:11:40.780353",
     "status": "completed"
    },
    "tags": []
   },
   "outputs": [
    {
     "name": "stdout",
     "output_type": "stream",
     "text": [
      "{}\n"
     ]
    }
   ],
   "source": [
    "cols = {column: train_data[column].isnull().sum() for column in train_data.columns if train_data[column].isnull().sum() != 0}\n",
    "print(cols)"
   ]
  },
  {
   "cell_type": "code",
   "execution_count": 9,
   "id": "2bc69f8f",
   "metadata": {
    "execution": {
     "iopub.execute_input": "2024-01-08T00:11:40.819734Z",
     "iopub.status.busy": "2024-01-08T00:11:40.819037Z",
     "iopub.status.idle": "2024-01-08T00:11:40.852462Z",
     "shell.execute_reply": "2024-01-08T00:11:40.851343Z"
    },
    "papermill": {
     "duration": 0.041986,
     "end_time": "2024-01-08T00:11:40.855188",
     "exception": false,
     "start_time": "2024-01-08T00:11:40.813202",
     "status": "completed"
    },
    "tags": []
   },
   "outputs": [],
   "source": [
    "#print(train_data.head(10))\n",
    "for column in test_data.columns:\n",
    "    if test_data[column].isnull().sum() != 0:\n",
    "        if test_data[column].dtype == 'object':\n",
    "            test_data[column].fillna('None', inplace=True)\n",
    "        else:\n",
    "            test_data[column].fillna(test_data[column].mean(), inplace=True)\n",
    "\n",
    "for column in test_data.columns:\n",
    "    if test_data[column].isnull().sum() != 0:\n",
    "        print(column)"
   ]
  },
  {
   "cell_type": "code",
   "execution_count": 10,
   "id": "2ec4d6a4",
   "metadata": {
    "execution": {
     "iopub.execute_input": "2024-01-08T00:11:40.866095Z",
     "iopub.status.busy": "2024-01-08T00:11:40.865694Z",
     "iopub.status.idle": "2024-01-08T00:11:42.027924Z",
     "shell.execute_reply": "2024-01-08T00:11:42.026719Z"
    },
    "papermill": {
     "duration": 1.170714,
     "end_time": "2024-01-08T00:11:42.030602",
     "exception": false,
     "start_time": "2024-01-08T00:11:40.859888",
     "status": "completed"
    },
    "tags": []
   },
   "outputs": [],
   "source": [
    "#determining non-numerical columns\n",
    "object_cols = train_data.select_dtypes(exclude='number').columns.tolist()\n",
    "object_cols2 = test_data.select_dtypes(exclude='number').columns.tolist()\n",
    "\n",
    "#for i in object_cols:\n",
    "    #print(i)\n",
    "\n",
    "#performing ordinal encoding \n",
    "from sklearn.preprocessing import OrdinalEncoder\n",
    "ord_encoder = OrdinalEncoder(handle_unknown='use_encoded_value', unknown_value=-1)\n",
    "train_data[object_cols] = ord_encoder.fit_transform(train_data[object_cols])\n",
    "test_data[object_cols2] = ord_encoder.transform(test_data[object_cols2])\n",
    "\n",
    "#for column in train_data.columns:\n",
    "    #print(train_data[column].dtypes)"
   ]
  },
  {
   "cell_type": "code",
   "execution_count": 11,
   "id": "1194602c",
   "metadata": {
    "execution": {
     "iopub.execute_input": "2024-01-08T00:11:42.042151Z",
     "iopub.status.busy": "2024-01-08T00:11:42.041115Z",
     "iopub.status.idle": "2024-01-08T00:11:42.232137Z",
     "shell.execute_reply": "2024-01-08T00:11:42.231159Z"
    },
    "papermill": {
     "duration": 0.199489,
     "end_time": "2024-01-08T00:11:42.234777",
     "exception": false,
     "start_time": "2024-01-08T00:11:42.035288",
     "status": "completed"
    },
    "tags": []
   },
   "outputs": [],
   "source": [
    "train_features = train_data.drop(columns=['SalePrice'])\n",
    "train_target = train_data['SalePrice']\n",
    "\n",
    "#test_features = test_data.drop(columns=['SalePrice'])\n",
    "#test_target = test_data['SalePrice']\n",
    "\n",
    "from sklearn.model_selection import train_test_split\n",
    "X_train, X_test, y_train, y_test = train_test_split(train_features, train_target, test_size=0.3, random_state=42)"
   ]
  },
  {
   "cell_type": "code",
   "execution_count": 12,
   "id": "2af08203",
   "metadata": {
    "execution": {
     "iopub.execute_input": "2024-01-08T00:11:42.245983Z",
     "iopub.status.busy": "2024-01-08T00:11:42.245593Z",
     "iopub.status.idle": "2024-01-08T00:11:42.940235Z",
     "shell.execute_reply": "2024-01-08T00:11:42.939125Z"
    },
    "papermill": {
     "duration": 0.703065,
     "end_time": "2024-01-08T00:11:42.942630",
     "exception": false,
     "start_time": "2024-01-08T00:11:42.239565",
     "status": "completed"
    },
    "tags": []
   },
   "outputs": [
    {
     "name": "stdout",
     "output_type": "stream",
     "text": [
      "Root Mean Squared Error:  37684.94304692101\n"
     ]
    }
   ],
   "source": [
    "from sklearn.ensemble import RandomForestRegressor\n",
    "from sklearn.metrics import mean_squared_error\n",
    "\n",
    "rf_model = RandomForestRegressor(n_estimators=100, min_samples_leaf=2, max_depth=3, random_state=42)\n",
    "\n",
    "#model fitting and predicting\n",
    "rf_model.fit(X_train, y_train)\n",
    "predictions = rf_model.predict(X_test)\n",
    "\n",
    "#calculating accuracy using rmse\n",
    "rmse = np.sqrt(mean_squared_error(y_test, predictions))\n",
    "print(\"Root Mean Squared Error: \", rmse)"
   ]
  },
  {
   "cell_type": "code",
   "execution_count": 13,
   "id": "4ebce3d6",
   "metadata": {
    "execution": {
     "iopub.execute_input": "2024-01-08T00:11:42.953994Z",
     "iopub.status.busy": "2024-01-08T00:11:42.953021Z",
     "iopub.status.idle": "2024-01-08T00:11:43.896323Z",
     "shell.execute_reply": "2024-01-08T00:11:43.895016Z"
    },
    "papermill": {
     "duration": 0.951484,
     "end_time": "2024-01-08T00:11:43.898774",
     "exception": false,
     "start_time": "2024-01-08T00:11:42.947290",
     "status": "completed"
    },
    "tags": []
   },
   "outputs": [
    {
     "data": {
      "image/png": "[encoded data removed]",
      "text/plain": [
       "<Figure size 800x600 with 1 Axes>"
      ]
     },
     "metadata": {},
     "output_type": "display_data"
    },
    {
     "data": {
      "image/png": "[encoded data removed]",
      "text/plain": [
       "<Figure size 800x800 with 1 Axes>"
      ]
     },
     "metadata": {},
     "output_type": "display_data"
    }
   ],
   "source": [
    "import matplotlib.pyplot as plt\n",
    "import seaborn as sns\n",
    "\n",
    "# Assuming 'y_test' contains actual values and 'predictions' contains predicted values\n",
    "residuals = predictions - y_test\n",
    "\n",
    "# Plotting a histogram of residuals\n",
    "plt.figure(figsize=(8, 6))\n",
    "sns.histplot(residuals, bins=30, kde=True)\n",
    "plt.title('Distribution of Residuals')\n",
    "plt.xlabel('Residuals (Predicted - Actual)')\n",
    "plt.ylabel('Frequency')\n",
    "plt.show()\n",
    "\n",
    "# Plotting a scatter plot of predicted vs actual values\n",
    "plt.figure(figsize=(8, 8))\n",
    "sns.scatterplot(x=y_test, y=residuals)\n",
    "plt.axhline(y=0, color='r', linestyle='--', linewidth=2)\n",
    "plt.title('Residuals vs Actual Values')\n",
    "plt.xlabel('Actual Values')\n",
    "plt.ylabel('Residuals (Predicted - Actual)')\n",
    "plt.show()"
   ]
  },
  {
   "cell_type": "code",
   "execution_count": 14,
   "id": "3fb2652e",
   "metadata": {
    "execution": {
     "iopub.execute_input": "2024-01-08T00:11:43.913541Z",
     "iopub.status.busy": "2024-01-08T00:11:43.912622Z",
     "iopub.status.idle": "2024-01-08T00:11:43.916905Z",
     "shell.execute_reply": "2024-01-08T00:11:43.916120Z"
    },
    "papermill": {
     "duration": 0.013732,
     "end_time": "2024-01-08T00:11:43.918744",
     "exception": false,
     "start_time": "2024-01-08T00:11:43.905012",
     "status": "completed"
    },
    "tags": []
   },
   "outputs": [],
   "source": [
    "#test_id = test_data['Id']\n",
    "#submission = pd.DataFrame({'Id': test_id, 'SalePrice': predictions})\n",
    "#submission.to_csv('submission.csv', index=False)"
   ]
  }
 ],
 "metadata": {
  "kaggle": {
   "accelerator": "none",
   "dataSources": [
    {
     "databundleVersionId": 868283,
     "sourceId": 5407,
     "sourceType": "competition"
    }
   ],
   "dockerImageVersionId": 30626,
   "isGpuEnabled": false,
   "isInternetEnabled": true,
   "language": "python",
   "sourceType": "notebook"
  },
  "kernelspec": {
   "display_name": "Python 3",
   "language": "python",
   "name": "python3"
  },
  "language_info": {
   "codemirror_mode": {
    "name": "ipython",
    "version": 3
   },
   "file_extension": ".py",
   "mimetype": "text/x-python",
   "name": "python",
   "nbconvert_exporter": "python",
   "pygments_lexer": "ipython3",
   "version": "3.10.12"
  },
  "papermill": {
   "default_parameters": {},
   "duration": 7.576917,
   "end_time": "2024-01-08T00:11:44.545593",
   "environment_variables": {},
   "exception": null,
   "input_path": "__notebook__.ipynb",
   "output_path": "__notebook__.ipynb",
   "parameters": {},
   "start_time": "2024-01-08T00:11:36.968676",
   "version": "2.4.0"
  }
 },
 "nbformat": 4,
 "nbformat_minor": 5
}
