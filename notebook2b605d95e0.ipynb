{
 "cells": [
  {
   "cell_type": "code",
   "execution_count": 1,
   "id": "d8737a40",
   "metadata": {
    "_cell_guid": "b1076dfc-b9ad-4769-8c92-a6c4dae69d19",
    "_uuid": "8f2839f25d086af736a60e9eeb907d3b93b6e0e5",
    "execution": {
     "iopub.execute_input": "2024-01-13T13:47:20.113424Z",
     "iopub.status.busy": "2024-01-13T13:47:20.112634Z",
     "iopub.status.idle": "2024-01-13T13:47:21.042791Z",
     "shell.execute_reply": "2024-01-13T13:47:21.041557Z"
    },
    "papermill": {
     "duration": 0.942149,
     "end_time": "2024-01-13T13:47:21.045716",
     "exception": false,
     "start_time": "2024-01-13T13:47:20.103567",
     "status": "completed"
    },
    "tags": []
   },
   "outputs": [
    {
     "name": "stdout",
     "output_type": "stream",
     "text": [
      "/kaggle/input/house-prices-advanced-regression-techniques/sample_submission.csv\n",
      "/kaggle/input/house-prices-advanced-regression-techniques/data_description.txt\n",
      "/kaggle/input/house-prices-advanced-regression-techniques/train.csv\n",
      "/kaggle/input/house-prices-advanced-regression-techniques/test.csv\n"
     ]
    }
   ],
   "source": [
    "# This Python 3 environment comes with many helpful analytics libraries installed\n",
    "# It is defined by the kaggle/python Docker image: https://github.com/kaggle/docker-python\n",
    "# For example, here's several helpful packages to load\n",
    "\n",
    "import numpy as np # linear algebra\n",
    "import pandas as pd # data processing, CSV file I/O (e.g. pd.read_csv)\n",
    "\n",
    "# Input data files are available in the read-only \"../input/\" directory\n",
    "# For example, running this (by clicking run or pressing Shift+Enter) will list all files under the input directory\n",
    "\n",
    "import os\n",
    "for dirname, _, filenames in os.walk('/kaggle/input'):\n",
    "    for filename in filenames:\n",
    "        print(os.path.join(dirname, filename))\n",
    "\n",
    "# You can write up to 20GB to the current directory (/kaggle/working/) that gets preserved as output when you create a version using \"Save & Run All\" \n",
    "# You can also write temporary files to /kaggle/temp/, but they won't be saved outside of the current session"
   ]
  },
  {
   "cell_type": "code",
   "execution_count": 2,
   "id": "39e1be59",
   "metadata": {
    "execution": {
     "iopub.execute_input": "2024-01-13T13:47:21.061059Z",
     "iopub.status.busy": "2024-01-13T13:47:21.060547Z",
     "iopub.status.idle": "2024-01-13T13:47:21.172043Z",
     "shell.execute_reply": "2024-01-13T13:47:21.170914Z"
    },
    "papermill": {
     "duration": 0.121731,
     "end_time": "2024-01-13T13:47:21.174297",
     "exception": false,
     "start_time": "2024-01-13T13:47:21.052566",
     "status": "completed"
    },
    "tags": []
   },
   "outputs": [
    {
     "name": "stdout",
     "output_type": "stream",
     "text": [
      "   Id  MSSubClass MSZoning  LotFrontage  LotArea Street Alley LotShape  \\\n",
      "0   1          60       RL         65.0     8450   Pave   NaN      Reg   \n",
      "1   2          20       RL         80.0     9600   Pave   NaN      Reg   \n",
      "2   3          60       RL         68.0    11250   Pave   NaN      IR1   \n",
      "3   4          70       RL         60.0     9550   Pave   NaN      IR1   \n",
      "4   5          60       RL         84.0    14260   Pave   NaN      IR1   \n",
      "\n",
      "  LandContour Utilities  ... PoolArea PoolQC Fence MiscFeature MiscVal MoSold  \\\n",
      "0         Lvl    AllPub  ...        0    NaN   NaN         NaN       0      2   \n",
      "1         Lvl    AllPub  ...        0    NaN   NaN         NaN       0      5   \n",
      "2         Lvl    AllPub  ...        0    NaN   NaN         NaN       0      9   \n",
      "3         Lvl    AllPub  ...        0    NaN   NaN         NaN       0      2   \n",
      "4         Lvl    AllPub  ...        0    NaN   NaN         NaN       0     12   \n",
      "\n",
      "  YrSold  SaleType  SaleCondition  SalePrice  \n",
      "0   2008        WD         Normal     208500  \n",
      "1   2007        WD         Normal     181500  \n",
      "2   2008        WD         Normal     223500  \n",
      "3   2006        WD        Abnorml     140000  \n",
      "4   2008        WD         Normal     250000  \n",
      "\n",
      "[5 rows x 81 columns]\n"
     ]
    }
   ],
   "source": [
    "#importing data from csv file to dataframe\n",
    "train_data = pd.read_csv(\"/kaggle/input/house-prices-advanced-regression-techniques/train.csv\")\n",
    "test_data = pd.read_csv(\"/kaggle/input/house-prices-advanced-regression-techniques/test.csv\")\n",
    "\n",
    "print(train_data.head())"
   ]
  },
  {
   "cell_type": "code",
   "execution_count": 3,
   "id": "b65d3d95",
   "metadata": {
    "execution": {
     "iopub.execute_input": "2024-01-13T13:47:21.191296Z",
     "iopub.status.busy": "2024-01-13T13:47:21.188959Z",
     "iopub.status.idle": "2024-01-13T13:47:21.229349Z",
     "shell.execute_reply": "2024-01-13T13:47:21.227875Z"
    },
    "papermill": {
     "duration": 0.051071,
     "end_time": "2024-01-13T13:47:21.232035",
     "exception": false,
     "start_time": "2024-01-13T13:47:21.180964",
     "status": "completed"
    },
    "tags": []
   },
   "outputs": [
    {
     "name": "stdout",
     "output_type": "stream",
     "text": [
      "{'LotFrontage': 259, 'Alley': 1369, 'MasVnrType': 872, 'MasVnrArea': 8, 'BsmtQual': 37, 'BsmtCond': 37, 'BsmtExposure': 38, 'BsmtFinType1': 37, 'BsmtFinType2': 38, 'Electrical': 1, 'FireplaceQu': 690, 'GarageType': 81, 'GarageYrBlt': 81, 'GarageFinish': 81, 'GarageQual': 81, 'GarageCond': 81, 'PoolQC': 1453, 'Fence': 1179, 'MiscFeature': 1406}\n"
     ]
    }
   ],
   "source": [
    "#checking for missing data\n",
    "missing_dict = {}\n",
    "for column in train_data.columns:\n",
    "    if train_data[column].isnull().sum() != 0:\n",
    "        missing_dict[column] = train_data[column].isnull().sum()\n",
    "print(missing_dict)  "
   ]
  },
  {
   "cell_type": "code",
   "execution_count": 4,
   "id": "279f963a",
   "metadata": {
    "execution": {
     "iopub.execute_input": "2024-01-13T13:47:21.249282Z",
     "iopub.status.busy": "2024-01-13T13:47:21.248893Z",
     "iopub.status.idle": "2024-01-13T13:47:21.288877Z",
     "shell.execute_reply": "2024-01-13T13:47:21.287509Z"
    },
    "papermill": {
     "duration": 0.051736,
     "end_time": "2024-01-13T13:47:21.291274",
     "exception": false,
     "start_time": "2024-01-13T13:47:21.239538",
     "status": "completed"
    },
    "tags": []
   },
   "outputs": [
    {
     "name": "stdout",
     "output_type": "stream",
     "text": [
      "{'MSZoning': 4, 'LotFrontage': 227, 'Alley': 1352, 'Utilities': 2, 'Exterior1st': 1, 'Exterior2nd': 1, 'MasVnrType': 894, 'MasVnrArea': 15, 'BsmtQual': 44, 'BsmtCond': 45, 'BsmtExposure': 44, 'BsmtFinType1': 42, 'BsmtFinSF1': 1, 'BsmtFinType2': 42, 'BsmtFinSF2': 1, 'BsmtUnfSF': 1, 'TotalBsmtSF': 1, 'BsmtFullBath': 2, 'BsmtHalfBath': 2, 'KitchenQual': 1, 'Functional': 2, 'FireplaceQu': 730, 'GarageType': 76, 'GarageYrBlt': 78, 'GarageFinish': 78, 'GarageCars': 1, 'GarageArea': 1, 'GarageQual': 78, 'GarageCond': 78, 'PoolQC': 1456, 'Fence': 1169, 'MiscFeature': 1408, 'SaleType': 1}\n"
     ]
    }
   ],
   "source": [
    "#checking for missing data\n",
    "missing_dict = {}\n",
    "for column in test_data.columns:\n",
    "    if test_data[column].isnull().sum() != 0:\n",
    "        missing_dict[column] = test_data[column].isnull().sum()\n",
    "print(missing_dict)  "
   ]
  },
  {
   "cell_type": "code",
   "execution_count": 5,
   "id": "62eb9349",
   "metadata": {
    "execution": {
     "iopub.execute_input": "2024-01-13T13:47:21.307044Z",
     "iopub.status.busy": "2024-01-13T13:47:21.306654Z",
     "iopub.status.idle": "2024-01-13T13:47:21.346139Z",
     "shell.execute_reply": "2024-01-13T13:47:21.344776Z"
    },
    "papermill": {
     "duration": 0.050597,
     "end_time": "2024-01-13T13:47:21.348801",
     "exception": false,
     "start_time": "2024-01-13T13:47:21.298204",
     "status": "completed"
    },
    "tags": []
   },
   "outputs": [],
   "source": [
    "#handling missing data\n",
    "\n",
    "#dropping columns with too much missing data\n",
    "train_data.drop(columns=['Alley', 'PoolQC', 'Fence', 'MiscFeature', 'FireplaceQu', \n",
    "                         'RoofMatl',  'BsmtUnfSF', 'BsmtHalfBath', 'GarageYrBlt',\n",
    "                         '3SsnPorch', 'ScreenPorch', 'MiscVal'], inplace=True)\n",
    "train_data.drop(columns=['MSSubClass', 'Street', 'Utilities', 'Condition2', \n",
    "                         'BsmtFinSF2', 'LowQualFinSF', 'KitchenAbvGr', \n",
    "                          'PoolArea', 'GarageFinish'], inplace=True)\n",
    "\n",
    "#dropping missing values\n",
    "drop_list = ['Electrical', 'BsmtQual', 'BsmtCond', 'BsmtExposure','BsmtFinType2']\n",
    "for i in drop_list:\n",
    "    train_data.dropna(subset=[i], inplace=True)\n",
    "\n",
    "#filling in missing data \n",
    "fill_list = ['GarageType', 'GarageQual', 'GarageCond']\n",
    "\n",
    "for i in fill_list:\n",
    "    train_data[i].fillna(train_data[i].mode().iloc[0], inplace=True)\n",
    "    \n",
    "train_data['LotFrontage'].fillna(train_data['LotFrontage'].mean(), inplace=True)\n",
    "train_data['MasVnrArea'].fillna(train_data['MasVnrArea'].mean(), inplace=True)\n",
    "\n",
    "train_data['MasVnrType'].fillna('None', inplace=True)"
   ]
  },
  {
   "cell_type": "code",
   "execution_count": 6,
   "id": "95c85412",
   "metadata": {
    "execution": {
     "iopub.execute_input": "2024-01-13T13:47:21.365188Z",
     "iopub.status.busy": "2024-01-13T13:47:21.364311Z",
     "iopub.status.idle": "2024-01-13T13:47:21.370014Z",
     "shell.execute_reply": "2024-01-13T13:47:21.368778Z"
    },
    "papermill": {
     "duration": 0.016697,
     "end_time": "2024-01-13T13:47:21.372519",
     "exception": false,
     "start_time": "2024-01-13T13:47:21.355822",
     "status": "completed"
    },
    "tags": []
   },
   "outputs": [],
   "source": [
    "#train_data.drop(columns=['MSSubClass', 'Street', 'Alley', 'Utilities', 'Condition2', \n",
    " #                        'BsmtFinSF2', 'LowQualFinSF', 'BsmtHalfBath', 'KitchenAbvGr', \n",
    "  #                       '3SsnPorch', 'ScreenPorch', 'PoolArea'], inplace=True)\n",
    "#test_data.drop(columns=['Alley', 'PoolQC', 'Fence', 'MiscFeature', 'FireplaceQu', \n",
    " #                        'LandSlope', 'RoofMatl', \n",
    "  #                        'BsmtUnfSF', 'BsmtFullBath', \n",
    "   #                      'BsmtHalfBath', 'FullBath', 'HalfBath', 'GarageYrBlt', \n",
    "    #                     'GarageFinish', 'WoodDeckSF', 'OpenPorchSF','EnclosedPorch', \n",
    "     #                    '3SsnPorch', 'ScreenPorch',  'MiscVal'], inplace=True)"
   ]
  },
  {
   "cell_type": "code",
   "execution_count": 7,
   "id": "f5538224",
   "metadata": {
    "execution": {
     "iopub.execute_input": "2024-01-13T13:47:21.388044Z",
     "iopub.status.busy": "2024-01-13T13:47:21.387665Z",
     "iopub.status.idle": "2024-01-13T13:47:21.416779Z",
     "shell.execute_reply": "2024-01-13T13:47:21.415716Z"
    },
    "papermill": {
     "duration": 0.040149,
     "end_time": "2024-01-13T13:47:21.419442",
     "exception": false,
     "start_time": "2024-01-13T13:47:21.379293",
     "status": "completed"
    },
    "tags": []
   },
   "outputs": [],
   "source": [
    "#handling missing data\n",
    "\n",
    "#dropping columns\n",
    "test_data.drop(columns=['Alley', 'PoolQC', 'Fence', 'MiscFeature', 'FireplaceQu', \n",
    "                        'RoofMatl', 'BsmtUnfSF', 'BsmtHalfBath', 'GarageYrBlt',\n",
    "                         '3SsnPorch', 'ScreenPorch', 'MiscVal'], inplace=True)\n",
    "test_data.drop(columns=['MSSubClass', 'Street', 'Utilities', 'Condition2', \n",
    "                         'BsmtFinSF2', 'LowQualFinSF', 'KitchenAbvGr', \n",
    "                        'PoolArea', 'GarageFinish'], inplace=True)\n",
    "\n",
    "#dropping missing values\n",
    "drop_list = ['Electrical', 'BsmtQual', 'BsmtCond', 'BsmtExposure']\n",
    "for i in drop_list:\n",
    "    test_data.dropna(subset=[i], inplace=True)\n",
    "\n",
    "#filling in missing data \n",
    "fill_list = ['GarageType', 'GarageQual', 'GarageCond']\n",
    "\n",
    "for i in fill_list:\n",
    "    test_data[i].fillna(test_data[i].mode().iloc[0], inplace=True)\n",
    "    \n",
    "test_data['LotFrontage'].fillna(test_data['LotFrontage'].mean(), inplace=True)\n",
    "test_data['MasVnrArea'].fillna(test_data['MasVnrArea'].mean(), inplace=True)\n",
    "\n",
    "test_data['MasVnrType'].fillna('None', inplace=True)"
   ]
  },
  {
   "cell_type": "code",
   "execution_count": 8,
   "id": "eee1b5f6",
   "metadata": {
    "execution": {
     "iopub.execute_input": "2024-01-13T13:47:21.435808Z",
     "iopub.status.busy": "2024-01-13T13:47:21.435383Z",
     "iopub.status.idle": "2024-01-13T13:47:21.461453Z",
     "shell.execute_reply": "2024-01-13T13:47:21.460231Z"
    },
    "papermill": {
     "duration": 0.037952,
     "end_time": "2024-01-13T13:47:21.464350",
     "exception": false,
     "start_time": "2024-01-13T13:47:21.426398",
     "status": "completed"
    },
    "tags": []
   },
   "outputs": [
    {
     "name": "stdout",
     "output_type": "stream",
     "text": [
      "{}\n"
     ]
    }
   ],
   "source": [
    "cols = {column: train_data[column].isnull().sum() for column in train_data.columns if train_data[column].isnull().sum() != 0}\n",
    "print(cols)"
   ]
  },
  {
   "cell_type": "code",
   "execution_count": 9,
   "id": "61d42d7a",
   "metadata": {
    "execution": {
     "iopub.execute_input": "2024-01-13T13:47:21.480133Z",
     "iopub.status.busy": "2024-01-13T13:47:21.479754Z",
     "iopub.status.idle": "2024-01-13T13:47:21.526580Z",
     "shell.execute_reply": "2024-01-13T13:47:21.525436Z"
    },
    "papermill": {
     "duration": 0.057451,
     "end_time": "2024-01-13T13:47:21.528887",
     "exception": false,
     "start_time": "2024-01-13T13:47:21.471436",
     "status": "completed"
    },
    "tags": []
   },
   "outputs": [],
   "source": [
    "#print(train_data.head(10))\n",
    "for column in test_data.columns:\n",
    "    if test_data[column].isnull().sum() != 0:\n",
    "        if test_data[column].dtype == 'object':\n",
    "            test_data[column].fillna('None', inplace=True)\n",
    "        else:\n",
    "            test_data[column].fillna(test_data[column].mean(), inplace=True)\n",
    "\n",
    "for column in test_data.columns:\n",
    "    if test_data[column].isnull().sum() != 0:\n",
    "        print(column)"
   ]
  },
  {
   "cell_type": "code",
   "execution_count": 10,
   "id": "e65f7e08",
   "metadata": {
    "execution": {
     "iopub.execute_input": "2024-01-13T13:47:21.545450Z",
     "iopub.status.busy": "2024-01-13T13:47:21.544402Z",
     "iopub.status.idle": "2024-01-13T13:47:22.853099Z",
     "shell.execute_reply": "2024-01-13T13:47:22.851647Z"
    },
    "papermill": {
     "duration": 1.320315,
     "end_time": "2024-01-13T13:47:22.856391",
     "exception": false,
     "start_time": "2024-01-13T13:47:21.536076",
     "status": "completed"
    },
    "tags": []
   },
   "outputs": [],
   "source": [
    "#determining non-numerical columns\n",
    "object_cols = train_data.select_dtypes(exclude='number').columns.tolist()\n",
    "object_cols2 = test_data.select_dtypes(exclude='number').columns.tolist()\n",
    "\n",
    "#for i in object_cols:\n",
    "    #print(i)\n",
    "\n",
    "#performing ordinal encoding \n",
    "from sklearn.preprocessing import OrdinalEncoder\n",
    "ord_encoder = OrdinalEncoder(handle_unknown='use_encoded_value', unknown_value=-1)\n",
    "train_data[object_cols] = ord_encoder.fit_transform(train_data[object_cols])\n",
    "test_data[object_cols2] = ord_encoder.transform(test_data[object_cols2])\n",
    "\n",
    "#for column in train_data.columns:\n",
    "    #print(train_data[column].dtypes)"
   ]
  },
  {
   "cell_type": "markdown",
   "id": "767182a8",
   "metadata": {
    "papermill": {
     "duration": 0.006883,
     "end_time": "2024-01-13T13:47:22.871014",
     "exception": false,
     "start_time": "2024-01-13T13:47:22.864131",
     "status": "completed"
    },
    "tags": []
   },
   "source": [
    "\n",
    " "
   ]
  },
  {
   "cell_type": "code",
   "execution_count": 11,
   "id": "37a62585",
   "metadata": {
    "execution": {
     "iopub.execute_input": "2024-01-13T13:47:22.888324Z",
     "iopub.status.busy": "2024-01-13T13:47:22.887896Z",
     "iopub.status.idle": "2024-01-13T13:47:24.246191Z",
     "shell.execute_reply": "2024-01-13T13:47:24.245107Z"
    },
    "papermill": {
     "duration": 1.370408,
     "end_time": "2024-01-13T13:47:24.249042",
     "exception": false,
     "start_time": "2024-01-13T13:47:22.878634",
     "status": "completed"
    },
    "tags": []
   },
   "outputs": [
    {
     "name": "stdout",
     "output_type": "stream",
     "text": [
      "Cross Validation RMSE:\n",
      "22786.19908217937\n",
      "28016.566496271764\n",
      "25386.284523905055\n",
      "26362.292367599843\n",
      "33482.22852356055\n"
     ]
    }
   ],
   "source": [
    "train_features = train_data.drop(columns=['SalePrice'])\n",
    "train_target = train_data['SalePrice']\n",
    "\n",
    "#importing necessary modules and sub-modules\n",
    "import xgboost as xgb\n",
    "from sklearn.model_selection import cross_val_score, KFold\n",
    "\n",
    "#instantiating xgb model\n",
    "xgb_model = xgb.XGBRegressor(objective='reg:squarederror',\n",
    "                             colsample_bytree=0.3,\n",
    "                             learning_rate=0.1,\n",
    "                             max_depth=5,\n",
    "                             alpha=5, #Lasso regularization\n",
    "                             gamma=0.1 #Gamma regularization\n",
    "                            )\n",
    "#0.3, 0.1, 5, 5\n",
    "\n",
    "#cross-validation using kfold\n",
    "kf = KFold(n_splits=5, shuffle=True, random_state=42)\n",
    "cv_results = cross_val_score(estimator=xgb_model, X=train_features, y=train_target, cv=kf, scoring='neg_mean_squared_error')\n",
    "rmse = np.sqrt(-cv_results)\n",
    "print(\"Cross Validation RMSE:\")\n",
    "for score in rmse:\n",
    "    print(score)"
   ]
  },
  {
   "cell_type": "code",
   "execution_count": 12,
   "id": "b24e6b88",
   "metadata": {
    "execution": {
     "iopub.execute_input": "2024-01-13T13:47:24.266245Z",
     "iopub.status.busy": "2024-01-13T13:47:24.265856Z",
     "iopub.status.idle": "2024-01-13T13:47:24.275271Z",
     "shell.execute_reply": "2024-01-13T13:47:24.274328Z"
    },
    "papermill": {
     "duration": 0.020246,
     "end_time": "2024-01-13T13:47:24.277306",
     "exception": false,
     "start_time": "2024-01-13T13:47:24.257060",
     "status": "completed"
    },
    "tags": []
   },
   "outputs": [],
   "source": [
    "#test_features = test_data.drop(columns=['SalePrice'])\n",
    "#test_target = test_data['SalePrice']\n",
    "\n",
    "from sklearn.model_selection import train_test_split\n",
    "X_train, X_test, y_train, y_test = train_test_split(train_features, train_target, test_size=0.3, random_state=42)"
   ]
  },
  {
   "cell_type": "code",
   "execution_count": 13,
   "id": "bb5e87b4",
   "metadata": {
    "execution": {
     "iopub.execute_input": "2024-01-13T13:47:24.293398Z",
     "iopub.status.busy": "2024-01-13T13:47:24.292649Z",
     "iopub.status.idle": "2024-01-13T13:47:25.139117Z",
     "shell.execute_reply": "2024-01-13T13:47:25.137821Z"
    },
    "papermill": {
     "duration": 0.857394,
     "end_time": "2024-01-13T13:47:25.141732",
     "exception": false,
     "start_time": "2024-01-13T13:47:24.284338",
     "status": "completed"
    },
    "tags": []
   },
   "outputs": [
    {
     "name": "stdout",
     "output_type": "stream",
     "text": [
      "Train Root Mean Squared Error:  35890.962262028144\n",
      "Test Root Mean Squared Error:  37684.94304692101\n"
     ]
    }
   ],
   "source": [
    "from sklearn.ensemble import RandomForestRegressor\n",
    "from sklearn.metrics import mean_squared_error\n",
    "\n",
    "rf_model = RandomForestRegressor(n_estimators=100, min_samples_leaf=2, max_depth=3, random_state=42)\n",
    "\n",
    "#model fitting and predicting\n",
    "rf_model.fit(X_train, y_train)\n",
    "train_predictions = rf_model.predict(X_train)\n",
    "test_predictions = rf_model.predict(X_test)\n",
    "\n",
    "#calculating accuracy using rmse\n",
    "rmse_train = np.sqrt(mean_squared_error(y_train, train_predictions))\n",
    "rmse_test = np.sqrt(mean_squared_error(y_test, test_predictions))\n",
    "print(\"Train Root Mean Squared Error: \", rmse_train)\n",
    "print(\"Test Root Mean Squared Error: \", rmse_test)"
   ]
  },
  {
   "cell_type": "code",
   "execution_count": 14,
   "id": "19511ac8",
   "metadata": {
    "execution": {
     "iopub.execute_input": "2024-01-13T13:47:25.158734Z",
     "iopub.status.busy": "2024-01-13T13:47:25.157973Z",
     "iopub.status.idle": "2024-01-13T13:47:26.355853Z",
     "shell.execute_reply": "2024-01-13T13:47:26.354683Z"
    },
    "papermill": {
     "duration": 1.209628,
     "end_time": "2024-01-13T13:47:26.358751",
     "exception": false,
     "start_time": "2024-01-13T13:47:25.149123",
     "status": "completed"
    },
    "tags": []
   },
   "outputs": [
    {
     "data": {
      "image/png": "[encoded data removed]",
      "text/plain": [
       "<Figure size 800x600 with 1 Axes>"
      ]
     },
     "metadata": {},
     "output_type": "display_data"
    },
    {
     "data": {
      "image/png": "[encoded data removed]",
      "text/plain": [
       "<Figure size 800x800 with 1 Axes>"
      ]
     },
     "metadata": {},
     "output_type": "display_data"
    }
   ],
   "source": [
    "import matplotlib.pyplot as plt\n",
    "import seaborn as sns\n",
    "\n",
    "# Assuming 'y_test' contains actual values and 'predictions' contains predicted values\n",
    "\n",
    "test_residuals = test_predictions - y_test\n",
    "\n",
    "\n",
    "# Plotting a histogram of residuals\n",
    "plt.figure(figsize=(8, 6))\n",
    "sns.histplot(test_residuals, bins=30, kde=True)\n",
    "plt.title('Distribution of Test Residuals')\n",
    "plt.xlabel('Residuals (Predicted - Actual)')\n",
    "plt.ylabel('Frequency')\n",
    "plt.show()\n",
    "\n",
    "# Plotting a scatter plot of predicted vs actual values\n",
    "plt.figure(figsize=(8, 8))\n",
    "sns.scatterplot(x=y_test, y=test_residuals)\n",
    "plt.axhline(y=0, color='r', linestyle='--', linewidth=2)\n",
    "plt.title('Residuals vs Actual Values')\n",
    "plt.xlabel('Actual Values')\n",
    "plt.ylabel('Residuals (Predicted - Actual)')\n",
    "plt.show()"
   ]
  },
  {
   "cell_type": "code",
   "execution_count": 15,
   "id": "15c6fec7",
   "metadata": {
    "execution": {
     "iopub.execute_input": "2024-01-13T13:47:26.378871Z",
     "iopub.status.busy": "2024-01-13T13:47:26.377973Z",
     "iopub.status.idle": "2024-01-13T13:47:26.548618Z",
     "shell.execute_reply": "2024-01-13T13:47:26.547603Z"
    },
    "papermill": {
     "duration": 0.183822,
     "end_time": "2024-01-13T13:47:26.551380",
     "exception": false,
     "start_time": "2024-01-13T13:47:26.367558",
     "status": "completed"
    },
    "tags": []
   },
   "outputs": [],
   "source": [
    "xgb_model.fit(X_train, y_train)\n",
    "preds = xgb_model.predict(test_data)\n",
    "my_preds= []\n",
    "count = 0\n",
    "for pred in preds:\n",
    "    if count > 1410:\n",
    "        break\n",
    "    my_preds.append(pred)\n",
    "    count += 1"
   ]
  },
  {
   "cell_type": "code",
   "execution_count": 16,
   "id": "7965705d",
   "metadata": {
    "execution": {
     "iopub.execute_input": "2024-01-13T13:47:26.572285Z",
     "iopub.status.busy": "2024-01-13T13:47:26.571885Z",
     "iopub.status.idle": "2024-01-13T13:47:26.598202Z",
     "shell.execute_reply": "2024-01-13T13:47:26.597081Z"
    },
    "papermill": {
     "duration": 0.039022,
     "end_time": "2024-01-13T13:47:26.600696",
     "exception": false,
     "start_time": "2024-01-13T13:47:26.561674",
     "status": "completed"
    },
    "tags": []
   },
   "outputs": [
    {
     "data": {
      "text/html": [
       "<div>\n",
       "<style scoped>\n",
       "    .dataframe tbody tr th:only-of-type {\n",
       "        vertical-align: middle;\n",
       "    }\n",
       "\n",
       "    .dataframe tbody tr th {\n",
       "        vertical-align: top;\n",
       "    }\n",
       "\n",
       "    .dataframe thead th {\n",
       "        text-align: right;\n",
       "    }\n",
       "</style>\n",
       "<table border=\"1\" class=\"dataframe\">\n",
       "  <thead>\n",
       "    <tr style=\"text-align: right;\">\n",
       "      <th></th>\n",
       "      <th>Id</th>\n",
       "      <th>SalePrice</th>\n",
       "    </tr>\n",
       "  </thead>\n",
       "  <tbody>\n",
       "    <tr>\n",
       "      <th>0</th>\n",
       "      <td>1461</td>\n",
       "      <td>127541.429688</td>\n",
       "    </tr>\n",
       "    <tr>\n",
       "      <th>1</th>\n",
       "      <td>1462</td>\n",
       "      <td>154797.187500</td>\n",
       "    </tr>\n",
       "    <tr>\n",
       "      <th>2</th>\n",
       "      <td>1463</td>\n",
       "      <td>192403.312500</td>\n",
       "    </tr>\n",
       "    <tr>\n",
       "      <th>3</th>\n",
       "      <td>1464</td>\n",
       "      <td>189984.406250</td>\n",
       "    </tr>\n",
       "    <tr>\n",
       "      <th>4</th>\n",
       "      <td>1465</td>\n",
       "      <td>186422.296875</td>\n",
       "    </tr>\n",
       "  </tbody>\n",
       "</table>\n",
       "</div>"
      ],
      "text/plain": [
       "     Id      SalePrice\n",
       "0  1461  127541.429688\n",
       "1  1462  154797.187500\n",
       "2  1463  192403.312500\n",
       "3  1464  189984.406250\n",
       "4  1465  186422.296875"
      ]
     },
     "execution_count": 16,
     "metadata": {},
     "output_type": "execute_result"
    }
   ],
   "source": [
    "sample_submission_df = pd.DataFrame()\n",
    "sample_submission_df['Id'] = test_data['Id']\n",
    "sample_submission_df['SalePrice'] = my_preds\n",
    "sample_submission_df.to_csv('/kaggle/working/submission.csv', index=False)\n",
    "sample_submission_df.head()"
   ]
  }
 ],
 "metadata": {
  "kaggle": {
   "accelerator": "none",
   "dataSources": [
    {
     "databundleVersionId": 868283,
     "sourceId": 5407,
     "sourceType": "competition"
    }
   ],
   "dockerImageVersionId": 30626,
   "isGpuEnabled": false,
   "isInternetEnabled": true,
   "language": "python",
   "sourceType": "notebook"
  },
  "kernelspec": {
   "display_name": "Python 3",
   "language": "python",
   "name": "python3"
  },
  "language_info": {
   "codemirror_mode": {
    "name": "ipython",
    "version": 3
   },
   "file_extension": ".py",
   "mimetype": "text/x-python",
   "name": "python",
   "nbconvert_exporter": "python",
   "pygments_lexer": "ipython3",
   "version": "3.10.12"
  },
  "papermill": {
   "default_parameters": {},
   "duration": 10.853606,
   "end_time": "2024-01-13T13:47:27.231402",
   "environment_variables": {},
   "exception": null,
   "input_path": "__notebook__.ipynb",
   "output_path": "__notebook__.ipynb",
   "parameters": {},
   "start_time": "2024-01-13T13:47:16.377796",
   "version": "2.4.0"
  }
 },
 "nbformat": 4,
 "nbformat_minor": 5
}
